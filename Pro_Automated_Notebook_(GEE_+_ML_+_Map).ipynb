{
  "cells": [
    {
      "cell_type": "code",
      "source": [
        "print(\"Installing required libraries: earthengine-api, pandas, scikit-learn, rasterio, folium...\")\n",
        "!pip install earthengine-api pandas scikit-learn rasterio folium --quiet\n",
        "print(\"Installation complete.\")\n"
      ],
      "outputs": [
        {
          "output_type": "stream",
          "name": "stdout",
          "text": [
            "Installing required libraries: earthengine-api, pandas, scikit-learn, rasterio, folium...\n",
            "Installation complete.\n"
          ]
        }
      ],
      "execution_count": null,
      "metadata": {
        "colab": {
          "base_uri": "https://localhost:8080/"
        },
        "id": "u_t0QLikvnEL",
        "outputId": "73215a6e-6d1a-46af-a311-1ecc7841a5eb"
      }
    },
    {
      "cell_type": "code",
      "source": [
        "import ee\n",
        "import time\n",
        "import os\n",
        "import pandas as pd\n",
        "import numpy as np\n",
        "import rasterio\n",
        "from rasterio.plot import show\n",
        "from rasterio.transform import Affine\n",
        "from rasterio.warp import calculate_default_transform, reproject, Resampling\n",
        "import folium\n",
        "import folium.raster_layers\n",
        "from folium.plugins import MarkerCluster\n",
        "from sklearn.model_selection import train_test_split\n",
        "from sklearn.ensemble import RandomForestClassifier\n",
        "from sklearn.metrics import accuracy_score, classification_report\n",
        "import json\n",
        "from google.colab import files\n",
        "from google.colab import drive\n",
        "\n",
        "print(\"Libraries imported successfully.\")\n"
      ],
      "metadata": {
        "colab": {
          "base_uri": "https://localhost:8080/"
        },
        "id": "TjyNI4vsxZFE",
        "outputId": "aa2e816e-7175-4061-902c-d47f7e1b2d49"
      },
      "execution_count": null,
      "outputs": [
        {
          "output_type": "stream",
          "name": "stdout",
          "text": [
            "Libraries imported successfully.\n"
          ]
        }
      ]
    },
    {
      "cell_type": "code",
      "source": [
        "try:\n",
        "    # Pass the project ID directly to ee.Initialize()\n",
        "    ee.Initialize(project='geohack-475905')\n",
        "    print(\"GEE authenticated successfully.\")\n",
        "except Exception as e:\n",
        "    print(f\"GEE authentication failed: {e}\")\n",
        "    print(\"Please try authenticating manually:\")\n",
        "    ee.Authenticate()\n",
        "    ee.Initialize(project='geohack-475905')\n",
        "    print(\"GEE authenticated successfully after manual step.\")\n",
        "\n",
        "# 2. Mount Google Drive\n",
        "try:\n",
        "    drive.mount('/content/drive', force_remount=True)\n",
        "    print(\"Google Drive mounted successfully.\")\n",
        "except Exception as e:\n",
        "    print(f\"Error mounting Google Drive: {e}\")\n",
        "\n"
      ],
      "metadata": {
        "colab": {
          "base_uri": "https://localhost:8080/"
        },
        "id": "VZH9X1lHxirR",
        "outputId": "0a5c023f-fba3-4c6f-a37b-b3f395a6fcc9"
      },
      "execution_count": null,
      "outputs": [
        {
          "output_type": "stream",
          "name": "stdout",
          "text": [
            "GEE authenticated successfully.\n",
            "Mounted at /content/drive\n",
            "Google Drive mounted successfully.\n"
          ]
        }
      ]
    },
    {
      "cell_type": "code",
      "source": [
        "print(\"Starting Part 1: GEE Data Export...\")\n",
        "\n",
        "# --- Configuration ---\n",
        "# All files will be saved in this folder in your Google Drive\n",
        "DRIVE_FOLDER = 'wildfire_hackathon_pro'\n",
        "CSV_FILENAME = 'training_data_india'\n",
        "TIF_FILENAME = 'prediction_features_india'\n",
        "\n",
        "# Full paths for later use\n",
        "DRIVE_PATH = f'/content/drive/My Drive/{DRIVE_FOLDER}'\n",
        "CSV_PATH = f'{DRIVE_PATH}/{CSV_FILENAME}.csv'\n",
        "TIF_PATH = f'{DRIVE_PATH}/{TIF_FILENAME}.tif'\n",
        "\n",
        "# Create the folder if it doesn't exist\n",
        "if not os.path.exists(DRIVE_PATH):\n",
        "    os.makedirs(DRIVE_PATH)\n",
        "\n",
        "# --- 1. Define Datasets & Area of Interest (Python Syntax) ---\n",
        "aoi = ee.Geometry.Rectangle([\n",
        "  68.11, 6.75, 97.41, 35.67\n",
        "])\n",
        "startDate = '2020-01-01'\n",
        "endDate = '2020-12-31'\n",
        "\n",
        "# a) Burned Area\n",
        "modisBurn = ee.ImageCollection('MODIS/006/MCD64A1').filterDate(startDate, endDate).select('BurnDate')\n",
        "burnedImage = modisBurn.max().gt(0).unmask(0).rename('burned')\n",
        "\n",
        "# b) Topography\n",
        "elevation = ee.Image('WWF/HydroSHEDS/03CONDEM').select('b1').rename('elevation')\n",
        "terrain = ee.Algorithms.Terrain(elevation)\n",
        "slope = terrain.select('slope').rename('slope')\n",
        "aspect = terrain.select('aspect').rename('aspect')\n",
        "\n",
        "# c) Vegetation (Original Fuel Type)\n",
        "landcover = ee.ImageCollection('MODIS/006/MCD12Q1').filterDate(startDate, endDate).select('LC_Type1').first().rename('fuel_type')\n",
        "\n",
        "# d) Climate\n",
        "modisTemp = ee.ImageCollection('MODIS/006/MOD11A1').filterDate(startDate, endDate).select('LST_Day_1km')\n",
        "meanTemp = modisTemp.mean().multiply(0.02).subtract(273.15).rename('mean_temp')\n",
        "modisSolar = ee.ImageCollection(\"MODIS/006/MOD09GA\").filterDate(startDate, endDate).select('sur_refl_b01')\n",
        "solarRad = modisSolar.mean().rename('solar_rad')\n",
        "precip = ee.ImageCollection(\"UCSB-CHG/CHIRPS/PENTAD\").filterDate(startDate, endDate).select('precipitation')\n",
        "totalPrecip = precip.sum().rename('total_precip')\n",
        "\n",
        "# e) Canopy Height (Proxy from Landcover)\n",
        "modisLC = ee.ImageCollection('MODIS/006/MCD12Q1').filterDate(startDate, endDate).select('LC_Type1').first()\n",
        "# Remap land cover classes. Forest types (1-5) become 1, others become 0.\n",
        "canopyHeight = modisLC.remap(\n",
        "  [1, 2, 3, 4, 5, 6, 7, 8, 9, 10, 11, 12, 13, 14, 15, 16, 17], # From classes\n",
        "  [1, 1, 1, 1, 1, 0, 0, 0, 0, 0,  0,  0,  0,  0,  0,  0,  0]  # To classes\n",
        ").rename('canopy_height')\n",
        "\n",
        "# --- 2. Assemble Feature Stack ---\n",
        "projection = elevation.projection().atScale(1000)\n",
        "featureStack = ee.Image.cat([\n",
        "  slope,\n",
        "  aspect,\n",
        "  landcover,  # This is the original fuel_type\n",
        "  meanTemp,\n",
        "  totalPrecip,\n",
        "  solarRad,\n",
        "  canopyHeight # This is the new binary canopy band\n",
        "]).rename([\n",
        "  'slope',\n",
        "  'aspect',\n",
        "  'fuel_type',\n",
        "  'mean_temp',\n",
        "  'total_precip',\n",
        "  'solar_rad',\n",
        "  'canopy_height'\n",
        "]).reproject(projection).clip(aoi).float() # Cast to float\n",
        "\n",
        "finalImage = featureStack.addBands(burnedImage).float()\n",
        "\n",
        "# --- 3. Define Export Tasks ---\n",
        "print(\"Defining GEE export tasks...\")\n",
        "\n",
        "# Task 1: Export Training Data (CSV)\n",
        "trainingData = finalImage.sample(\n",
        "  region=aoi,\n",
        "  scale=1000,\n",
        "  numPixels=5000,\n",
        "  geometries=True\n",
        ")\n",
        "task_csv = ee.batch.Export.table.toDrive(\n",
        "  collection=trainingData,\n",
        "  description='export_training_data_india_csv',\n",
        "  folder=DRIVE_FOLDER,\n",
        "  fileNamePrefix=CSV_FILENAME,\n",
        "  fileFormat='CSV'\n",
        ")\n",
        "\n",
        "# Task 2: Export Prediction Features (GeoTIFF)\n",
        "task_tif = ee.batch.Export.image.toDrive(\n",
        "  image=featureStack,\n",
        "  description='export_prediction_features_india_tif',\n",
        "  folder=DRIVE_FOLDER,\n",
        "  fileNamePrefix=TIF_FILENAME,\n",
        "  scale=1000,\n",
        "  region=aoi,\n",
        "  maxPixels=1e10\n",
        ")\n",
        "\n",
        "# --- 4. Start Exports ---\n",
        "task_csv.start()\n",
        "task_tif.start()\n",
        "\n",
        "print(f\"GEE export tasks started. Files will be saved to '{DRIVE_PATH}'\")\n",
        "print(\"This will take several minutes. Please wait for Cell 5 to complete.\")\n",
        "\n",
        "# %%\n",
        "# --- Cell 5: Wait for GEE Tasks to Complete ---\n",
        "\n",
        "print(\"Waiting for GEE tasks to complete. This can take 5-15 minutes...\")\n",
        "print(\"You can check task status at: https://code.earthengine.google.com/tasks\")\n",
        "\n",
        "while task_csv.active() or task_tif.active():\n",
        "    # Print status every 30 seconds\n",
        "    csv_status = task_csv.status()['state']\n",
        "    tif_status = task_tif.status()['state']\n",
        "    print(f\"Status: CSV Export ({csv_status}), TIF Export ({tif_status})\")\n",
        "\n",
        "    if csv_status == 'FAILED' or tif_status == 'FAILED':\n",
        "        print(\"Error: A GEE task failed. Check the GEE Tasks tab for details.\")\n",
        "        task_csv.cancel()\n",
        "        task_tif.cancel()\n",
        "        break\n",
        "\n",
        "    time.sleep(30)\n",
        "\n",
        "if task_csv.status()['state'] == 'COMPLETED' and task_tif.status()['state'] == 'COMPLETED':\n",
        "    print(\"SUCCESS: GEE export tasks completed!\")\n",
        "    print(f\"Files saved to: {DRIVE_PATH}\")\n",
        "else:\n",
        "    print(\"Error: Tasks did not complete successfully.\")\n",
        "\n"
      ],
      "metadata": {
        "colab": {
          "base_uri": "https://localhost:8080/"
        },
        "id": "N3pQTBDwxlel",
        "outputId": "d4bf4ef9-958f-48d5-db50-a7527bbab213"
      },
      "execution_count": null,
      "outputs": [
        {
          "output_type": "stream",
          "name": "stdout",
          "text": [
            "Starting Part 1: GEE Data Export...\n",
            "Defining GEE export tasks...\n",
            "GEE export tasks started. Files will be saved to '/content/drive/My Drive/wildfire_hackathon_pro'\n",
            "This will take several minutes. Please wait for Cell 5 to complete.\n",
            "Waiting for GEE tasks to complete. This can take 5-15 minutes...\n",
            "You can check task status at: https://code.earthengine.google.com/tasks\n",
            "Status: CSV Export (READY), TIF Export (READY)\n",
            "Status: CSV Export (READY), TIF Export (READY)\n",
            "Status: CSV Export (READY), TIF Export (READY)\n",
            "Status: CSV Export (READY), TIF Export (READY)\n",
            "Status: CSV Export (READY), TIF Export (READY)\n",
            "Status: CSV Export (READY), TIF Export (READY)\n",
            "Status: CSV Export (READY), TIF Export (READY)\n",
            "Status: CSV Export (COMPLETED), TIF Export (RUNNING)\n",
            "Status: CSV Export (COMPLETED), TIF Export (RUNNING)\n",
            "Status: CSV Export (COMPLETED), TIF Export (RUNNING)\n",
            "Status: CSV Export (COMPLETED), TIF Export (RUNNING)\n",
            "Status: CSV Export (COMPLETED), TIF Export (RUNNING)\n",
            "Status: CSV Export (COMPLETED), TIF Export (RUNNING)\n",
            "Status: CSV Export (COMPLETED), TIF Export (RUNNING)\n",
            "Status: CSV Export (COMPLETED), TIF Export (RUNNING)\n",
            "Status: CSV Export (COMPLETED), TIF Export (RUNNING)\n",
            "Status: CSV Export (COMPLETED), TIF Export (RUNNING)\n",
            "Status: CSV Export (COMPLETED), TIF Export (RUNNING)\n",
            "Status: CSV Export (COMPLETED), TIF Export (RUNNING)\n",
            "Status: CSV Export (COMPLETED), TIF Export (RUNNING)\n",
            "Status: CSV Export (COMPLETED), TIF Export (RUNNING)\n",
            "Status: CSV Export (COMPLETED), TIF Export (RUNNING)\n",
            "SUCCESS: GEE export tasks completed!\n",
            "Files saved to: /content/drive/My Drive/wildfire_hackathon_pro\n"
          ]
        }
      ]
    },
    {
      "cell_type": "code",
      "source": [
        "print(\"Starting Part 2: ML Model Training...\")\n",
        "# Load data directly from the Google Drive path\n",
        "print(f\"Loading training data from: {CSV_PATH}\")\n",
        "\n",
        "if not os.path.exists(CSV_PATH):\n",
        "    print(f\"Error: {CSV_PATH} not found. Did Cell 5 complete successfully?\")\n",
        "else:\n",
        "    df = pd.read_csv(CSV_PATH)\n",
        "    df = df.fillna(0) # Simple fillna\n",
        "\n",
        "    FEATURES = [\n",
        "        'slope', 'aspect', 'fuel_type', 'mean_temp',\n",
        "        'total_precip', 'solar_rad', 'canopy_height'\n",
        "    ]\n",
        "    TARGET = 'burned'\n",
        "\n",
        "    missing_cols = [col for col in FEATURES + [TARGET] if col not in df.columns]\n",
        "    if missing_cols:\n",
        "        print(f\"Error: Missing columns in training_data.csv: {missing_cols}\")\n",
        "    else:\n",
        "        X = df[FEATURES]\n",
        "        y = df[TARGET]\n",
        "        X_train, X_test, y_train, y_test = train_test_split(X, y, test_size=0.3, random_state=42)\n",
        "\n",
        "        print(\"Training RandomForest model...\")\n",
        "        model = RandomForestClassifier(n_estimators=100, random_state=42, n_jobs=-1)\n",
        "        model.fit(X_train, y_train)\n",
        "\n",
        "        print(\"Evaluating model...\")\n",
        "        y_pred = model.predict(X_test)\n",
        "        accuracy = accuracy_score(y_test, y_pred)\n",
        "        print(f\"Model Accuracy: {accuracy * 100:.2f}%\")\n",
        "        print(classification_report(y_test, y_pred))\n"
      ],
      "metadata": {
        "colab": {
          "base_uri": "https://localhost:8080/"
        },
        "id": "TROzlyv0xtgw",
        "outputId": "3eaf501c-866a-4f66-e45c-201f4e65ee38"
      },
      "execution_count": null,
      "outputs": [
        {
          "output_type": "stream",
          "name": "stdout",
          "text": [
            "Starting Part 2: ML Model Training...\n",
            "Loading training data from: /content/drive/My Drive/wildfire_hackathon_pro/training_data_india.csv\n",
            "Training RandomForest model...\n",
            "Evaluating model...\n",
            "Model Accuracy: 99.14%\n",
            "              precision    recall  f1-score   support\n",
            "\n",
            "         0.0       0.99      1.00      1.00       919\n",
            "         1.0       0.00      0.00      0.00         8\n",
            "\n",
            "    accuracy                           0.99       927\n",
            "   macro avg       0.50      0.50      0.50       927\n",
            "weighted avg       0.98      0.99      0.99       927\n",
            "\n"
          ]
        },
        {
          "output_type": "stream",
          "name": "stderr",
          "text": [
            "/usr/local/lib/python3.12/dist-packages/sklearn/metrics/_classification.py:1565: UndefinedMetricWarning: Precision is ill-defined and being set to 0.0 in labels with no predicted samples. Use `zero_division` parameter to control this behavior.\n",
            "  _warn_prf(average, modifier, f\"{metric.capitalize()} is\", len(result))\n",
            "/usr/local/lib/python3.12/dist-packages/sklearn/metrics/_classification.py:1565: UndefinedMetricWarning: Precision is ill-defined and being set to 0.0 in labels with no predicted samples. Use `zero_division` parameter to control this behavior.\n",
            "  _warn_prf(average, modifier, f\"{metric.capitalize()} is\", len(result))\n",
            "/usr/local/lib/python3.12/dist-packages/sklearn/metrics/_classification.py:1565: UndefinedMetricWarning: Precision is ill-defined and being set to 0.0 in labels with no predicted samples. Use `zero_division` parameter to control this behavior.\n",
            "  _warn_prf(average, modifier, f\"{metric.capitalize()} is\", len(result))\n"
          ]
        }
      ]
    },
    {
      "cell_type": "code",
      "source": [
        "print(\"Generating risk map...\")\n",
        "# Make these global\n",
        "risk_map = None\n",
        "map_bounds = None\n",
        "\n",
        "if not os.path.exists(TIF_PATH):\n",
        "    print(f\"Error: {TIF_PATH} not found. Did Cell 5 complete successfully?\")\n",
        "elif 'model' not in locals():\n",
        "    print(\"Error: Model was not trained. Skipping prediction.\")\n",
        "else:\n",
        "    print(f\"Loading prediction features from: {TIF_PATH}\")\n",
        "    with rasterio.open(TIF_PATH) as src:\n",
        "        img = src.read()\n",
        "        profile = src.profile\n",
        "        img = np.nan_to_num(img, nan=0)\n",
        "\n",
        "        n_bands, height, width = img.shape\n",
        "        img_reshaped = img.reshape(n_bands, -1)\n",
        "        img_transposed = img_reshaped.T\n",
        "\n",
        "        print(\"Predicting risk for all pixels...\")\n",
        "        risk_probabilities = model.predict_proba(img_transposed)[:, 1]\n",
        "        risk_map = risk_probabilities.reshape(height, width)\n",
        "\n",
        "        # Get bounds for Folium\n",
        "        map_bounds = [[src.bounds.bottom, src.bounds.left], [src.bounds.top, src.bounds.right]]\n",
        "        print(f\"Map bounds calculated: {map_bounds}\")\n",
        "        print(\"Risk map generated!\")\n"
      ],
      "metadata": {
        "colab": {
          "base_uri": "https://localhost:8080/"
        },
        "id": "xpYA3fMMx3-a",
        "outputId": "537ff4a0-32a8-41e3-bace-c7bf4ee3430f"
      },
      "execution_count": null,
      "outputs": [
        {
          "output_type": "stream",
          "name": "stdout",
          "text": [
            "Generating risk map...\n",
            "Loading prediction features from: /content/drive/My Drive/wildfire_hackathon_pro/prediction_features_india.tif\n",
            "Predicting risk for all pixels...\n"
          ]
        },
        {
          "output_type": "stream",
          "name": "stderr",
          "text": [
            "/usr/local/lib/python3.12/dist-packages/sklearn/utils/validation.py:2739: UserWarning: X does not have valid feature names, but RandomForestClassifier was fitted with feature names\n",
            "  warnings.warn(\n"
          ]
        },
        {
          "output_type": "stream",
          "name": "stdout",
          "text": [
            "Map bounds calculated: [[6.747869957394766, 68.1073348516741], [36.57193739016288, 97.41037941965288]]\n",
            "Risk map generated!\n"
          ]
        }
      ]
    },
    {
      "cell_type": "code",
      "source": [
        "print(\"Creating the master Folium map...\")\n",
        "\n",
        "# --- A. Define Helper Functions ---\n",
        "def add_live_fires(m):\n",
        "    print(\"Adding live fires layer...\")\n",
        "    try:\n",
        "        fires_url = 'https://firms.modaps.eosdis.nasa.gov/data/active_fire/modis-c6.1/csv/MODIS_C6_1_Global_24h.csv'\n",
        "        df_fires = pd.read_csv(fires_url)\n",
        "        if df_fires.empty:\n",
        "            print(\"No live fires detected globally.\")\n",
        "            return\n",
        "\n",
        "        fire_cluster = MarkerCluster(name=\"Live Fires (Global, 24h)\")\n",
        "        for idx, row in df_fires.iterrows():\n",
        "            folium.Marker(\n",
        "                location=[row['latitude'], row['longitude']],\n",
        "                tooltip=f\"Fire (Confidence: {row['confidence']}%)\",\n",
        "                icon=folium.Icon(color='red', icon='fire', prefix='fa')\n",
        "            ).add_to(fire_cluster)\n",
        "        fire_cluster.add_to(m)\n",
        "        print(f\"Added {len(df_fires)} live fire points globally.\")\n",
        "    except Exception as e:\n",
        "        print(f\"Warning: Could not load live fire data. {e}\")\n",
        "\n",
        "def add_pois(m):\n",
        "    print(\"Adding POIs layer...\")\n",
        "    poi_data = {\n",
        "      \"type\": \"FeatureCollection\",\n",
        "      \"features\": [\n",
        "        {\"type\": \"Feature\", \"geometry\": {\"type\": \"Point\", \"coordinates\": [-119.7871, 36.7378]}, \"properties\": {\"name\": \"Hospital: Community Regional (USA)\", \"type\": \"Hospital\"}},\n",
        "        {\"type\": \"Feature\", \"geometry\": {\"type\": \"Point\", \"coordinates\": [77.2167, 28.6139]}, \"properties\": {\"name\": \"Shelter: India Gate (IND)\", \"type\": \"Shelter\"}},\n",
        "        {\"type\": \"Feature\", \"geometry\": {\"type\": \"Point\", \"coordinates\": [78.0422, 27.1751]}, \"properties\": {\"name\": \"Evacuation Point: Taj Mahal (IND)\", \"type\": \"School\"}}\n",
        "      ]\n",
        "    }\n",
        "    def get_poi_icon(feature_type):\n",
        "        if feature_type == 'Hospital': return folium.Icon(color='blue', icon='hospital', prefix='fa')\n",
        "        elif feature_type == 'Shelter': return folium.Icon(color='green', icon='home', prefix='fa')\n",
        "        else: return folium.Icon(color='purple', icon='school', prefix='fa')\n",
        "\n",
        "    poi_feature_group = folium.FeatureGroup(name=\"Points of Interest\")\n",
        "    for feature in poi_data['features']:\n",
        "        coords = feature['geometry']['coordinates']\n",
        "        props = feature['properties']\n",
        "        folium.Marker(\n",
        "            location=[coords[1], coords[0]], # GeoJSON is (lon, lat)\n",
        "            tooltip=f\"{props['type']}: {props['name']}\",\n",
        "            icon=get_poi_icon(props['type'])\n",
        "        ).add_to(poi_feature_group)\n",
        "    poi_feature_group.add_to(m)\n",
        "\n",
        "# --- B. Create the Base Map ---\n",
        "m = folium.Map(location=[20, 0], zoom_start=2, tiles=\"CartoDB positron\", attribution_control=False)\n",
        "\n",
        "# --- C. Add the ML Risk Layer (for India) ---\n",
        "print(\"Adding ML Risk Map layer...\")\n",
        "if risk_map is not None and map_bounds is not None:\n",
        "    folium.raster_layers.ImageOverlay(\n",
        "        image=risk_map,\n",
        "        bounds=map_bounds,\n",
        "        colormap=folium.LinearColormap(['green', 'yellow', 'red'], vmin=0, vmax=1).to_step(100),\n",
        "        opacity=0.7,\n",
        "        name='ML Wildfire Risk (India)'\n",
        "    ).add_to(m)\n",
        "else:\n",
        "    print(\"Error: risk_map or map_bounds not available. Skipping risk layer.\")\n",
        "\n",
        "# --- D. Add Other Layers ---\n",
        "add_live_fires(m)\n",
        "add_pois(m)\n",
        "\n",
        "# --- E. Add Final Touches ---\n",
        "folium.LayerControl().add_to(m)\n",
        "\n",
        "# --- F. Save to HTML ---\n",
        "output_filename = 'map_with_layers_india.html'\n",
        "m.save(output_filename)\n",
        "\n",
        "print(f\"SUCCESS: Map saved to {output_filename}\")\n",
        "\n",
        "# %% [markdown]\n",
        "# ---\n",
        "# ## ✅ Cell 9: Download Your Map!\n",
        "# ---\n",
        "\n",
        "# %%\n",
        "# --- Cell 9: Download the File ---\n",
        "print(f\"Downloading {output_filename}...\")\n",
        "files.download(output_filename)\n"
      ],
      "metadata": {
        "colab": {
          "base_uri": "https://localhost:8080/",
          "height": 138
        },
        "id": "V2-AGfHix8mu",
        "outputId": "26023310-056a-4dda-9ecd-7b174b2d806a"
      },
      "execution_count": null,
      "outputs": [
        {
          "output_type": "stream",
          "name": "stdout",
          "text": [
            "Creating the master Folium map...\n",
            "Adding ML Risk Map layer...\n",
            "Adding live fires layer...\n",
            "Added 13768 live fire points globally.\n",
            "Adding POIs layer...\n",
            "SUCCESS: Map saved to map_with_layers_india.html\n",
            "Downloading map_with_layers_india.html...\n"
          ]
        },
        {
          "output_type": "display_data",
          "data": {
            "text/plain": [
              "<IPython.core.display.Javascript object>"
            ],
            "application/javascript": [
              "\n",
              "    async function download(id, filename, size) {\n",
              "      if (!google.colab.kernel.accessAllowed) {\n",
              "        return;\n",
              "      }\n",
              "      const div = document.createElement('div');\n",
              "      const label = document.createElement('label');\n",
              "      label.textContent = `Downloading \"${filename}\": `;\n",
              "      div.appendChild(label);\n",
              "      const progress = document.createElement('progress');\n",
              "      progress.max = size;\n",
              "      div.appendChild(progress);\n",
              "      document.body.appendChild(div);\n",
              "\n",
              "      const buffers = [];\n",
              "      let downloaded = 0;\n",
              "\n",
              "      const channel = await google.colab.kernel.comms.open(id);\n",
              "      // Send a message to notify the kernel that we're ready.\n",
              "      channel.send({})\n",
              "\n",
              "      for await (const message of channel.messages) {\n",
              "        // Send a message to notify the kernel that we're ready.\n",
              "        channel.send({})\n",
              "        if (message.buffers) {\n",
              "          for (const buffer of message.buffers) {\n",
              "            buffers.push(buffer);\n",
              "            downloaded += buffer.byteLength;\n",
              "            progress.value = downloaded;\n",
              "          }\n",
              "        }\n",
              "      }\n",
              "      const blob = new Blob(buffers, {type: 'application/binary'});\n",
              "      const a = document.createElement('a');\n",
              "      a.href = window.URL.createObjectURL(blob);\n",
              "      a.download = filename;\n",
              "      div.appendChild(a);\n",
              "      a.click();\n",
              "      div.remove();\n",
              "    }\n",
              "  "
            ]
          },
          "metadata": {}
        },
        {
          "output_type": "display_data",
          "data": {
            "text/plain": [
              "<IPython.core.display.Javascript object>"
            ],
            "application/javascript": [
              "download(\"download_a69c663e-7d25-45ec-b4f3-744035404458\", \"map_with_layers_india.html\", 15000325)"
            ]
          },
          "metadata": {}
        }
      ]
    }
  ],
  "metadata": {
    "colab": {
      "provenance": []
    },
    "kernelspec": {
      "display_name": "Python 3",
      "name": "python3"
    }
  },
  "nbformat": 4,
  "nbformat_minor": 0
}